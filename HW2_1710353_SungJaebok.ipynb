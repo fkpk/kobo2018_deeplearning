{
 "cells": [
  {
   "cell_type": "code",
   "execution_count": 4,
   "metadata": {},
   "outputs": [
    {
     "name": "stdout",
     "output_type": "stream",
     "text": [
      "[[0.31682708 0.69627909]]\n"
     ]
    }
   ],
   "source": [
    "import numpy as np\n",
    "\n",
    "def sigmoid(x):\n",
    "    return 1/(1 + np.exp(-1.0*x))\n",
    "\n",
    "def softmax(arr):\n",
    "    m = np.max(arr)\n",
    "    em = np.exp(arr - m)\n",
    "    sum = np.sum(em)\n",
    "    return em/sum\n",
    "\n",
    "def init_network():\n",
    "    network={}\n",
    "    network['W1'] = np.array([[0.1, 0.3, 0.5], [0.2, 0.4, 0.6]])\n",
    "    network['b1'] = np.array([[0.1, 0.2, 0.3]])\n",
    "    network['W2'] = np.array([[0.1, 0.4], [0.2, 0.5], [0.3, 0.6]])\n",
    "    network['b2'] = np.array([[0.1, 0.2]])\n",
    "    network['W3'] = np.array([[0.1, 0.3], [0.2, 0.4]])\n",
    "    network['b3'] = np.array([[0.1, 0.2]])\n",
    "    return network\n",
    "\n",
    "def forward(network, x):\n",
    "    # layer 1\n",
    "    W1=network['W1']\n",
    "    b1=network['b1']\n",
    "    W2=network['W2']\n",
    "    b2=network['b2']\n",
    "    W3=network['W3']\n",
    "    b3=network['b3']\n",
    "\n",
    "    a1=np.dot(x,W1)+b1\n",
    "    z1=sigmoid(a1)\n",
    "    # layer2\n",
    "    a2 = np.dot(z1,W2) + b2\n",
    "    z2 = sigmoid(a2)\n",
    "    # layer3\n",
    "    a3 = np.dot(z2,W3) + b3\n",
    "    y = (a3)\n",
    "\n",
    "    return y\n",
    "\n",
    "network = init_network()\n",
    "x=np.array([1.0,0.5])\n",
    "y=forward(network,x)\n",
    "print(y) #[0.31682708 0.69627909]"
   ]
  },
  {
   "cell_type": "code",
   "execution_count": 15,
   "metadata": {},
   "outputs": [
    {
     "name": "stdout",
     "output_type": "stream",
     "text": [
      "[[0.31209557 0.68576533]\n",
      " [0.31472491 0.69159163]\n",
      " [0.31594542 0.69430413]\n",
      " [0.30883982 0.67854775]\n",
      " [0.31692492 0.69649185]\n",
      " [0.31705543 0.69678206]\n",
      " [0.31425086 0.69053867]\n",
      " [0.31283388 0.6873933 ]]\n"
     ]
    }
   ],
   "source": [
    "import numpy as np\n",
    "import random\n",
    "\n",
    "\n",
    "def sigmoid(x):\n",
    "    return 1/(1 + np.exp(-1.0*x))\n",
    "\n",
    "def softmax(arr):\n",
    "    m = np.max(arr)\n",
    "    em = np.exp(arr - m)\n",
    "    sum = np.sum(em)\n",
    "    return em/sum\n",
    "\n",
    "def init_network():\n",
    "    network={}\n",
    "    network['W1'] = np.array([[0.1, 0.3, 0.5], [0.2, 0.4, 0.6]])\n",
    "    network['b1'] = np.array([[0.1, 0.2, 0.3]])\n",
    "    network['W2'] = np.array([[0.1, 0.4], [0.2, 0.5], [0.3, 0.6]])\n",
    "    network['b2'] = np.array([[0.1, 0.2]])\n",
    "    network['W3'] = np.array([[0.1, 0.3], [0.2, 0.4]])\n",
    "    network['b3'] = np.array([[0.1, 0.2]])\n",
    "    return network\n",
    "\n",
    "def forward(network, x):\n",
    "    # layer 1\n",
    "    W1=network['W1']\n",
    "    b1=network['b1']\n",
    "    W2=network['W2']\n",
    "    b2=network['b2']\n",
    "    W3=network['W3']\n",
    "    b3=network['b3']\n",
    "\n",
    "    a1=np.dot(x,W1)+b1\n",
    "    z1=sigmoid(a1)\n",
    "    # layer2\n",
    "    a2 = np.dot(z1,W2) + b2\n",
    "    z2 = sigmoid(a2)\n",
    "    # layer3\n",
    "    a3 = np.dot(z2,W3) + b3\n",
    "    y = (a3)\n",
    "\n",
    "    return y\n",
    "\n",
    "network = init_network()\n",
    "batch_size = 16\n",
    "x=np.random.rand(1000,2)\n",
    "for i in range(0,len(x),batch_size):\n",
    "    x_batch = x[i:i+batch_size]\n",
    "    y_batch = forward(network,x_batch)\n",
    "print(y_batch)"
   ]
  }
 ],
 "metadata": {
  "kernelspec": {
   "display_name": "Python 3",
   "language": "python",
   "name": "python3"
  },
  "language_info": {
   "codemirror_mode": {
    "name": "ipython",
    "version": 3
   },
   "file_extension": ".py",
   "mimetype": "text/x-python",
   "name": "python",
   "nbconvert_exporter": "python",
   "pygments_lexer": "ipython3",
   "version": "3.6.4"
  }
 },
 "nbformat": 4,
 "nbformat_minor": 2
}
